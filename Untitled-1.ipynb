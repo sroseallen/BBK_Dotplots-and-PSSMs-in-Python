{
 "cells": [
  {
   "cell_type": "markdown",
   "metadata": {},
   "source": [
    "Task 1: A simple dotplot program\n",
    "Overall aim: To build a program that creates a simple dotplot using no graphics but simply printing a matrix that indicates where two sequences show similarity.\n",
    "\n",
    "Your program should contain the following functions:\n",
    "\n",
    "    A) A function (called dotplot) that takes two sequences and fills a 2D matrix with ones and zeroes, according to whether a position corresponds to two identical residues or two different ones.\n",
    "\n",
    "    Arguments: two strings, one for each sequence\n",
    "    Returns: a 2D matrix filled in with zeroes and ones\n",
    "\n",
    "Note: You should write a separate function to create your own 2D matrix (call the function create_mat that takes two integer arguments and creates a matrix with number of columns and number of rows defined by the two arguments i.e. create_mat(nrwos, ncols))\n",
    "\n",
    "Improvement: It is generally accepted that the numpy package should be used for creating and manipulating matrices in python. Find out how to create a 2D matrix in numpy and change your code to replace the create_mat function with a create_mat_numpy function. "
   ]
  },
  {
   "cell_type": "code",
   "execution_count": 3,
   "metadata": {},
   "outputs": [],
   "source": [
    "import numpy as np \n",
    "\n",
    "def create_mat(nrows: int, ncols: int):\n",
    "    \"\"\"\n",
    "    Creates a blank matrix of zeroes\n",
    "\n",
    "    Args\n",
    "    nrows: Integer, number of rows\n",
    "    ncols: Integer, number of columns\n",
    "    \"\"\"\n",
    "    new_mat = np.zeros((nrows, ncols))\n",
    "    return new_mat\n",
    "\n",
    "def dotplot(seq1: str, seq2: str):\n",
    "    \"\"\"\n",
    "    Creates a dotplot from two sequences and returns a 2D matrix filled with ones and zeroes.\n",
    "\n",
    "    Args\n",
    "    seq1: String\n",
    "    seq2: String\n",
    "    \"\"\"\n",
    "    seq1_array = np.array(list(seq1))\n",
    "    seq2_array = np.array(list(seq2))\n",
    "    \n",
    "    dotplot_mat = create_mat(len(seq1), len(seq2))\n",
    "    \n",
    "    row_indices, col_indices = np.where(seq1_array[:, None] == seq2_array)\n",
    "    dotplot_mat[row_indices, col_indices] = 1\n",
    "\n",
    "    return dotplot_mat\n",
    "\n",
    "dotplot_dh = dotplot(\"DOROTHYHODGKIN\", \"DOROTHYCROWFOOTHODGKIN\")"
   ]
  },
  {
   "cell_type": "markdown",
   "metadata": {},
   "source": [
    "    B) A function called print_dotplot that prints out the dotplot\n",
    "\n",
    "    Arguments: two strings representing the sequences, one 2D list representing the matrix already filled with zeroes and ones, and two characters to be used for printing out \"ones\" and \"zeroes\" (note: a common convention is to use an asterisk to indicate ones in the matrix and a white space to indicate zeroes)\n",
    "    Returns: nothing (simply prints the dotplot)\n",
    "\n",
    "Note: Use the function sys.stdout.write from the package sys to print to the standard out stream (screen in this case)"
   ]
  },
  {
   "cell_type": "code",
   "execution_count": 9,
   "metadata": {},
   "outputs": [
    {
     "name": "stdout",
     "output_type": "stream",
     "text": [
      "*                *    \n",
      " * *     *  **  *     \n",
      "  *     *             \n",
      " * *     *  **  *     \n",
      "    *         *       \n",
      "     *         *      \n",
      "      *               \n",
      "     *         *      \n",
      " * *     *  **  *     \n",
      "*                *    \n",
      "                  *   \n",
      "                   *  \n",
      "                    * \n",
      "                     *\n"
     ]
    }
   ],
   "source": [
    "import sys\n",
    "\n",
    "def print_dotplot(dotplot_matrix, one = \"*\", zero = \" \"):\n",
    "    for row in dotplot_matrix:\n",
    "        for element in row:\n",
    "            if element == 0:\n",
    "                sys.stdout.write(str(zero))\n",
    "            else:\n",
    "                sys.stdout.write(str(one))\n",
    "        sys.stdout.write('\\n')\n",
    "    return\n",
    "\n",
    "print_dotplot(dotplot_dh)"
   ]
  },
  {
   "cell_type": "markdown",
   "metadata": {},
   "source": [
    "Dotplots can be represented as heatmaps (especially if real similarity values are used instead of just 0 and 1 values). Write a simple function to plot a heatmap using matplotlibs imshow function to plot your dotplot matrix as a heatmap.\n",
    "\n",
    "Arguments: a numpy 2D array containing the values of similarity between two sequences and two strings (one for each sequence)\n",
    "\n",
    "Returns: nothing.\n",
    "\n",
    "Improvement: Try to change the axes of the plot so that the ticks on each axis are labeled with the characters of each string."
   ]
  },
  {
   "cell_type": "code",
   "execution_count": 48,
   "metadata": {},
   "outputs": [
    {
     "data": {
      "image/png": "[encoded data removed]",
      "text/plain": [
       "<Figure size 432x288 with 1 Axes>"
      ]
     },
     "metadata": {},
     "output_type": "display_data"
    }
   ],
   "source": [
    "import matplotlib.pyplot as plt\n",
    "\n",
    "def plot_heatmap(dotplot_matrix, seq1=\"DOROTHYHODGKIN\", seq2=\"DOROTHYCROWFOOTHODGKIN\"):\n",
    "    heatmap = plt.imshow(dotplot_matrix, cmap=\"Reds\")\n",
    "    plt.gca().yaxis.set_major_locator(plt.MultipleLocator(1))\n",
    "    plt.gca().yaxis.set_ticklabels(\"_\" + seq1)\n",
    "    plt.gca().xaxis.set_major_locator(plt.MultipleLocator(1))\n",
    "    plt.gca().xaxis.set_ticklabels(\"_\" + seq2)\n",
    "    plt.tick_params(axis=\"x\", top=True, bottom=False, labeltop=True, labelbottom=False)\n",
    "    plt.show()\n",
    "    return \n",
    "\n",
    "plot_heatmap(dotplot_dh)"
   ]
  },
  {
   "cell_type": "markdown",
   "metadata": {},
   "source": [
    "Task 2: Consensus and profiles from ungapped aligned DNA sequences\n",
    "1) Solve this Rosalind problem on creating consensus and profiles from an alignment of ungapped DNA sequences: https://rosalind.info/problems/cons/\n",
    "\n"
   ]
  },
  {
   "cell_type": "code",
   "execution_count": 60,
   "metadata": {},
   "outputs": [
    {
     "name": "stdout",
     "output_type": "stream",
     "text": [
      "   0  1  2  3  4\n",
      "A  4  0  0  0  1\n",
      "C  0  2  2  0  0\n",
      "T  0  2  1  4  3\n",
      "G  0  0  1  0  0\n",
      "Consensus sequence is: ACCTT\n"
     ]
    }
   ],
   "source": [
    "import pandas as pd\n",
    "from Bio import SeqIO\n",
    "\n",
    "# Profile\n",
    "def make_profile(path: str = \"data/consensus_and_pwm/consensus_test3.fa\", profile_width: int = 5) -> pd.DataFrame:\n",
    "    profile = pd.DataFrame({\"A\": [0] * profile_width,\n",
    "                            \"C\": [0] * profile_width,\n",
    "                            \"T\": [0] * profile_width,\n",
    "                            \"G\": [0] * profile_width})\n",
    "    with open(path, \"r\") as fasta:\n",
    "        for record in SeqIO.parse(fasta, \"fasta\"):\n",
    "            count = 0\n",
    "            for i in record.seq:\n",
    "                if i == \"A\":\n",
    "                    profile.at[count, 'A'] += 1\n",
    "                elif i == \"C\":\n",
    "                    profile.at[count, 'C'] += 1\n",
    "                elif i == \"T\":\n",
    "                    profile.at[count, 'T'] += 1\n",
    "                elif i == \"G\":\n",
    "                    profile.at[count, 'G'] += 1\n",
    "                count += 1\n",
    "    return profile   \n",
    "\n",
    "profile=make_profile()\n",
    "print(profile.T)\n",
    "\n",
    "# Consensus sequence\n",
    "print(\"Consensus sequence is:\", ''.join(profile.idxmax(axis=1).values))\n"
   ]
  },
  {
   "cell_type": "markdown",
   "metadata": {},
   "source": [
    "2) Alter your code to return log-odds scores relative to a background probability for each DNA letter (0.25 by default)\n"
   ]
  },
  {
   "cell_type": "code",
   "execution_count": 77,
   "metadata": {},
   "outputs": [
    {
     "name": "stdout",
     "output_type": "stream",
     "text": [
      "          0         1         2         3    4\n",
      "A  1.321928 -1.000000 -1.000000 -1.000000  0.0\n",
      "C -1.000000  0.584963  0.584963 -1.000000 -1.0\n",
      "T -1.000000  0.584963  0.000000  1.321928  1.0\n",
      "G -1.000000 -1.000000  0.000000 -1.000000 -1.0\n"
     ]
    }
   ],
   "source": [
    "import math\n",
    "\n",
    "def PSSM (n, dflength: int = 4, pseudocount: int = 1):\n",
    "    return math.log2(((n+pseudocount)/(dflength+(pseudocount*4)))/0.25)\n",
    "\n",
    "profile_logodds = profile.T.map(PSSM)\n",
    "print(profile_logodds)\n"
   ]
  },
  {
   "cell_type": "markdown",
   "metadata": {},
   "source": [
    "3) Use the BioPython class Bio.motifs to check the output is correct."
   ]
  },
  {
   "cell_type": "code",
   "execution_count": 94,
   "metadata": {},
   "outputs": [
    {
     "name": "stdout",
     "output_type": "stream",
     "text": [
      "ACCTT\n"
     ]
    },
    {
     "data": {
      "text/plain": [
       "{'A': [2.0, -inf, -inf, -inf, 0.0],\n",
       " 'C': [-inf, 1.0, 1.0, -inf, -inf],\n",
       " 'G': [-inf, -inf, 0.0, -inf, -inf],\n",
       " 'T': [-inf, 1.0, 0.0, 2.0, 1.5849625007211563]}"
      ]
     },
     "execution_count": 94,
     "metadata": {},
     "output_type": "execute_result"
    }
   ],
   "source": [
    "from Bio import motifs\n",
    "\n",
    "read_motif = []\n",
    "with open(\"data/consensus_and_pwm/consensus_test3.fa\", \"r\") as fasta:\n",
    "    for record in SeqIO.parse(fasta, \"fasta\"):\n",
    "        read_motif.append(record.seq)\n",
    "\n",
    "# Consensus sequence\n",
    "motif_list = motifs.create(read_motif)\n",
    "print(motif_list.consensus)\n",
    "\n",
    "# PSSM (no pseudocounts, couldn't get this to work)\n",
    "motif_list.pssm"
   ]
  },
  {
   "cell_type": "markdown",
   "metadata": {},
   "source": [
    "Task 3: Write a program to find all open reading frames in both strands of a DNA string given as input"
   ]
  },
  {
   "cell_type": "code",
   "execution_count": null,
   "metadata": {},
   "outputs": [],
   "source": []
  },
  {
   "cell_type": "markdown",
   "metadata": {},
   "source": [
    "Task 4: Needleman-Wunsch Algorithm\n",
    "\n",
    "Write a program that will solve the global sequence alignment problem for two sequences (start with DNA for simplicity) with linear gap penalties using the dynamic programming approach suggested by Needleman and Wunsch.\n",
    "\n",
    "Hint: You can use two matrices (2D arrays), one to keep information on the best wat to reach each element and one to use for trace-back"
   ]
  },
  {
   "cell_type": "code",
   "execution_count": null,
   "metadata": {},
   "outputs": [],
   "source": []
  }
 ],
 "metadata": {
  "kernelspec": {
   "display_name": "Python 3",
   "language": "python",
   "name": "python3"
  },
  "language_info": {
   "codemirror_mode": {
    "name": "ipython",
    "version": 3
   },
   "file_extension": ".py",
   "mimetype": "text/x-python",
   "name": "python",
   "nbconvert_exporter": "python",
   "pygments_lexer": "ipython3",
   "version": "3.11.5"
  }
 },
 "nbformat": 4,
 "nbformat_minor": 2
}
